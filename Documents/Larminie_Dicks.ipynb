{
 "cells": [
  {
   "cell_type": "markdown",
   "metadata": {},
   "source": [
    "#  Larminie-Dicks Static Model"
   ]
  },
  {
   "cell_type": "markdown",
   "metadata": {},
   "source": [
    "### Version 0.2"
   ]
  },
  {
   "cell_type": "markdown",
   "metadata": {},
   "source": [
    "## Vcell\n",
    "\n",
    "$$V_{cell}=E_0-A\\times ln(\\frac{i+i_n}{i_0})-R_m\\times (i+i_n)+B\\times ln(1-\\frac{i+i_n}{i_L})$$\n"
   ]
  },
  {
   "cell_type": "code",
   "execution_count": 1,
   "metadata": {},
   "outputs": [
    {
     "data": {
      "text/plain": [
       "0.8677440917797067"
      ]
     },
     "execution_count": 1,
     "metadata": {},
     "output_type": "execute_result"
    }
   ],
   "source": [
    "from opem.Larminie_Dicks import *\n",
    "Vcell=Vcell_Calc(E0=1.178, i=1,i_0=0.00654,i_n=0.23 ,i_L=100.0 ,R_M=0.0018,A=0.0587,B=0.0517)\n",
    "Vcell"
   ]
  },
  {
   "cell_type": "markdown",
   "metadata": {},
   "source": [
    "### VStack"
   ]
  },
  {
   "cell_type": "markdown",
   "metadata": {},
   "source": [
    "$$V_{Stack}=N\\times V_{cell}$$"
   ]
  },
  {
   "cell_type": "code",
   "execution_count": 2,
   "metadata": {},
   "outputs": [
    {
     "data": {
      "text/plain": [
       "19.958114110933252"
      ]
     },
     "execution_count": 2,
     "metadata": {},
     "output_type": "execute_result"
    }
   ],
   "source": [
    "VStack=VStack_Calc(Vcell=Vcell,N=23)\n",
    "VStack"
   ]
  },
  {
   "cell_type": "markdown",
   "metadata": {},
   "source": [
    "## Power Of PEMFC"
   ]
  },
  {
   "cell_type": "markdown",
   "metadata": {},
   "source": [
    "$$P=V_{cell}\\times i$$"
   ]
  },
  {
   "cell_type": "markdown",
   "metadata": {},
   "source": [
    "$$P_{Stack}=N\\times P$$"
   ]
  },
  {
   "cell_type": "code",
   "execution_count": 3,
   "metadata": {},
   "outputs": [
    {
     "data": {
      "text/plain": [
       "1.7354881835594134"
      ]
     },
     "execution_count": 3,
     "metadata": {},
     "output_type": "execute_result"
    }
   ],
   "source": [
    "Power=Power_Calc(Vcell=Vcell,i=2)\n",
    "Power"
   ]
  },
  {
   "cell_type": "code",
   "execution_count": 4,
   "metadata": {},
   "outputs": [
    {
     "data": {
      "text/plain": [
       "39.916228221866504"
      ]
     },
     "execution_count": 4,
     "metadata": {},
     "output_type": "execute_result"
    }
   ],
   "source": [
    "PowerStack_Calc(Power=Power,N=23)"
   ]
  },
  {
   "cell_type": "markdown",
   "metadata": {},
   "source": [
    "## Efficiency of PEMFC"
   ]
  },
  {
   "cell_type": "markdown",
   "metadata": {},
   "source": [
    "$$\\eta=\\frac{\\mu_F\\times V_{cell}}{HHV}$$"
   ]
  },
  {
   "cell_type": "code",
   "execution_count": 5,
   "metadata": {},
   "outputs": [
    {
     "data": {
      "text/plain": [
       "0.5562462126792992"
      ]
     },
     "execution_count": 5,
     "metadata": {},
     "output_type": "execute_result"
    }
   ],
   "source": [
    "Efficiency_Calc(Vcell=Vcell)"
   ]
  },
  {
   "cell_type": "markdown",
   "metadata": {},
   "source": [
    "## Full Run"
   ]
  },
  {
   "cell_type": "markdown",
   "metadata": {},
   "source": [
    "* Run from `i`=0 to `i`=4 with `step`=0.1"
   ]
  },
  {
   "cell_type": "code",
   "execution_count": 6,
   "metadata": {
    "scrolled": true
   },
   "outputs": [
    {
     "name": "stdout",
     "output_type": "stream",
     "text": [
      "###########\n",
      "Larminie-Dicks-Model Simulation\n",
      "###########\n",
      "Analyzing . . .\n",
      "I : 0.1\n",
      "PEM Efficiency : 0.6070918465825977 \n",
      "Power : 0.09470632806688527 W\n",
      "Power-Stack : 2.178245545538361 W\n",
      "VStack : 21.78245545538361 V\n",
      "Vcell : 0.9470632806688526 V\n",
      "###########\n",
      "I : 0.2\n",
      "PEM Efficiency : 0.596983288796134 \n",
      "Power : 0.18625878610439384 W\n",
      "Power-Stack : 4.2839520804010585 W\n",
      "VStack : 21.41976040200529 V\n",
      "Vcell : 0.9312939305219692 V\n",
      "###########\n",
      "I : 0.30000000000000004\n",
      "PEM Efficiency : 0.5889668542476844 \n",
      "Power : 0.2756364877879164 W\n",
      "Power-Stack : 6.339639219122077 W\n",
      "VStack : 21.132130730406917 V\n",
      "Vcell : 0.9187882926263877 V\n",
      "###########\n",
      "I : 0.4\n",
      "PEM Efficiency : 0.5823143704480743 \n",
      "Power : 0.3633641671595984 W\n",
      "Power-Stack : 8.357375844670763 W\n",
      "VStack : 20.893439611676907 V\n",
      "Vcell : 0.908410417898996 V\n",
      "###########\n",
      "I : 0.5\n",
      "PEM Efficiency : 0.576622053314997 \n",
      "Power : 0.4497652015856977 W\n",
      "Power-Stack : 10.344599636471047 W\n",
      "VStack : 20.689199272942094 V\n",
      "Vcell : 0.8995304031713954 V\n",
      "###########\n",
      "I : 0.6\n",
      "PEM Efficiency : 0.5716425142657562 \n",
      "Power : 0.5350573933527478 W\n",
      "Power-Stack : 12.3063200471132 W\n",
      "VStack : 20.510533411855334 V\n",
      "Vcell : 0.8917623222545797 V\n",
      "###########\n",
      "I : 0.7\n",
      "PEM Efficiency : 0.5672131517182866 \n",
      "Power : 0.6193967616763688 W\n",
      "Power-Stack : 14.246125518556482 W\n",
      "VStack : 20.35160788365212 V\n",
      "Vcell : 0.884852516680527 V\n",
      "###########\n",
      "I : 0.7999999999999999\n",
      "PEM Efficiency : 0.5632213484876261 \n",
      "Power : 0.7029002429125573 W\n",
      "Power-Stack : 16.16670558698882 W\n",
      "VStack : 20.208381983736025 V\n",
      "Vcell : 0.8786253036406967 V\n",
      "###########\n",
      "I : 0.8999999999999999\n",
      "PEM Efficiency : 0.5595858755325545 \n",
      "Power : 0.7856585692477063 W\n",
      "Power-Stack : 18.070147092697244 W\n",
      "VStack : 20.07794121410805 V\n",
      "Vcell : 0.8729539658307849 V\n",
      "###########\n",
      "I : 0.9999999999999999\n",
      "PEM Efficiency : 0.5562462126792992 \n",
      "Power : 0.8677440917797066 W\n",
      "Power-Stack : 19.958114110933252 W\n",
      "VStack : 19.958114110933252 V\n",
      "Vcell : 0.8677440917797067 V\n",
      "###########\n",
      "I : 1.0999999999999999\n",
      "PEM Efficiency : 0.5531560572234717 \n",
      "Power : 0.9492157941954774 W\n",
      "Power-Stack : 21.83196326649598 W\n",
      "VStack : 19.847239333178166 V\n",
      "Vcell : 0.862923449268616 V\n",
      "###########\n",
      "I : 1.2\n",
      "PEM Efficiency : 0.5502791922121564 \n",
      "Power : 1.0301226478211567 W\n",
      "Power-Stack : 23.692820899886605 W\n",
      "VStack : 19.74401741657217 V\n",
      "Vcell : 0.858435539850964 V\n",
      "###########\n",
      "I : 1.3\n",
      "PEM Efficiency : 0.5475867544887774 \n",
      "Power : 1.1105059381032407 W\n",
      "Power-Stack : 25.541636576374536 W\n",
      "VStack : 19.647412751057335 V\n",
      "Vcell : 0.8542353370024928 V\n",
      "###########\n",
      "I : 1.4000000000000001\n",
      "PEM Efficiency : 0.5450553693735705 \n",
      "Power : 1.1904009267118782 W\n",
      "Power-Stack : 27.3792213143732 W\n",
      "VStack : 19.55658665312371 V\n",
      "Vcell : 0.85028637622277 V\n",
      "###########\n",
      "I : 1.5000000000000002\n",
      "PEM Efficiency : 0.5426658416714328 \n",
      "Power : 1.269838069511153 W\n",
      "Power-Stack : 29.20627559875652 W\n",
      "VStack : 19.47085039917101 V\n",
      "Vcell : 0.8465587130074352 V\n",
      "###########\n",
      "I : 1.6000000000000003\n",
      "PEM Efficiency : 0.5404022150580957 \n",
      "Power : 1.3488439287850071 W\n",
      "Power-Stack : 31.023410362055163 W\n",
      "VStack : 19.389631476284475 V\n",
      "Vcell : 0.8430274554906293 V\n",
      "###########\n",
      "I : 1.7000000000000004\n",
      "PEM Efficiency : 0.5382510820424253 \n",
      "Power : 1.4274418695765125 W\n",
      "Power-Stack : 32.831163000259785 W\n",
      "VStack : 19.312448823682224 V\n",
      "Vcell : 0.8396716879861836 V\n",
      "###########\n",
      "I : 1.8000000000000005\n",
      "PEM Efficiency : 0.536201068437617 \n",
      "Power : 1.5056526001728288 W\n",
      "Power-Stack : 34.630009803975064 W\n",
      "VStack : 19.238894335541694 V\n",
      "Vcell : 0.8364736667626824 V\n",
      "###########\n",
      "I : 1.9000000000000006\n",
      "PEM Efficiency : 0.5342424419218519 \n",
      "Power : 1.5834945978563695 W\n",
      "Power-Stack : 36.4203757506965 W\n",
      "VStack : 19.168618816156048 V\n",
      "Vcell : 0.833418209398089 V\n",
      "###########\n",
      "I : 2.0000000000000004\n",
      "PEM Efficiency : 0.532366810486187 \n",
      "Power : 1.6609844487169039 W\n",
      "Power-Stack : 38.20264232048879 W\n",
      "VStack : 19.10132116024439 V\n",
      "Vcell : 0.8304922243584517 V\n",
      "###########\n",
      "I : 2.1000000000000005\n",
      "PEM Efficiency : 0.5305668870842597 \n",
      "Power : 1.7381371220880353 W\n",
      "Power-Stack : 39.97715380802481 W\n",
      "VStack : 19.03673990858324 V\n",
      "Vcell : 0.8276843438514452 V\n",
      "###########\n",
      "I : 2.2000000000000006\n",
      "PEM Efficiency : 0.5288363037744284 \n",
      "Power : 1.8149661945538387 W\n",
      "Power-Stack : 41.74422247473829 W\n",
      "VStack : 18.97464657942649 V\n",
      "Vcell : 0.8249846338881083 V\n",
      "###########\n",
      "I : 2.3000000000000007\n",
      "PEM Efficiency : 0.5271694633673369 \n",
      "Power : 1.8914840345620054 W\n",
      "Power-Stack : 43.50413279492612 W\n",
      "VStack : 18.91484034562005 V\n",
      "Vcell : 0.8223843628530456 V\n",
      "###########\n",
      "I : 2.400000000000001\n",
      "PEM Efficiency : 0.5255614198480028 \n",
      "Power : 1.967701955910923 W\n",
      "Power-Stack : 45.25714498595123 W\n",
      "VStack : 18.857143744146338 V\n",
      "Vcell : 0.8198758149628843 V\n",
      "###########\n",
      "I : 2.500000000000001\n",
      "PEM Efficiency : 0.5240077811244296 \n",
      "Power : 2.0436303463852763 W\n",
      "Power-Stack : 47.00349796686135 W\n",
      "VStack : 18.801399186744536 V\n",
      "Vcell : 0.8174521385541103 V\n",
      "###########\n",
      "I : 2.600000000000001\n",
      "PEM Efficiency : 0.5225046292799733 \n",
      "Power : 2.119278776359572 W\n",
      "Power-Stack : 48.74341185627016 W\n",
      "VStack : 18.74746609856544 V\n",
      "Vcell : 0.8151072216767583 V\n",
      "###########\n",
      "I : 2.700000000000001\n",
      "PEM Efficiency : 0.52104845467996 \n",
      "Power : 2.1946560911119923 W\n",
      "Power-Stack : 50.477090095575825 W\n",
      "VStack : 18.695218553916966 V\n",
      "Vcell : 0.8128355893007376 V\n",
      "###########\n",
      "I : 2.800000000000001\n",
      "PEM Efficiency : 0.5196361011410657 \n",
      "Power : 2.269770489784176 W\n",
      "Power-Stack : 52.20472126503605 W\n",
      "VStack : 18.644543308941437 V\n",
      "Vcell : 0.8106323177800625 V\n",
      "###########\n",
      "I : 2.9000000000000012\n",
      "PEM Efficiency : 0.5182647200068938 \n",
      "Power : 2.3446295933111885 W\n",
      "Power-Stack : 53.92648064615734 W\n",
      "VStack : 18.59533815384735 V\n",
      "Vcell : 0.8084929632107544 V\n",
      "###########\n",
      "I : 3.0000000000000013\n",
      "PEM Efficiency : 0.5169317314482642 \n",
      "Power : 2.419240503177878 W\n",
      "Power-Stack : 55.64253157309119 W\n",
      "VStack : 18.54751052436372 V\n",
      "Vcell : 0.8064135010592922 V\n",
      "###########\n",
      "I : 3.1000000000000014\n",
      "PEM Efficiency : 0.515634791665824 \n",
      "Power : 2.493609852495926 W\n",
      "Power-Stack : 57.3530266074063 W\n",
      "VStack : 18.500976324969766 V\n",
      "Vcell : 0.8043902749986854 V\n",
      "###########\n",
      "I : 3.2000000000000015\n",
      "PEM Efficiency : 0.5143717649466449 \n",
      "Power : 2.567743850613653 W\n",
      "Power-Stack : 59.058108564114015 W\n",
      "VStack : 18.455658926285622 V\n",
      "Vcell : 0.8024199533167662 V\n",
      "###########\n",
      "I : 3.3000000000000016\n",
      "PEM Efficiency : 0.5131406997374682 \n",
      "Power : 2.641648322248488 W\n",
      "Power-Stack : 60.75791141171522 W\n",
      "VStack : 18.411488306580363 V\n",
      "Vcell : 0.8004994915904505 V\n",
      "###########\n",
      "I : 3.4000000000000017\n",
      "PEM Efficiency : 0.5119398080610783 \n",
      "Power : 2.7153287419559606 W\n",
      "Power-Stack : 62.452561064987094 W\n",
      "VStack : 18.36840031323149 V\n",
      "Vcell : 0.7986261005752822 V\n",
      "###########\n",
      "I : 3.5000000000000018\n",
      "PEM Efficiency : 0.5107674477304784 \n",
      "Power : 2.7887902646084135 W\n",
      "Power-Stack : 64.14217608599351 W\n",
      "VStack : 18.326336024569564 V\n",
      "Vcell : 0.7967972184595463 V\n",
      "###########\n",
      "I : 3.600000000000002\n",
      "PEM Efficiency : 0.5096221069165698 \n",
      "Power : 2.8620377524434573 W\n",
      "Power-Stack : 65.82686830619951 W\n",
      "VStack : 18.285241196166524 V\n",
      "Vcell : 0.7950104867898489 V\n",
      "###########\n",
      "I : 3.700000000000002\n",
      "PEM Efficiency : 0.5085023907052405 \n",
      "Power : 2.93507579915065 W\n",
      "Power-Stack : 67.50674338046495 W\n",
      "VStack : 18.24506577850403 V\n",
      "Vcell : 0.7932637295001752 V\n",
      "###########\n",
      "I : 3.800000000000002\n",
      "PEM Efficiency : 0.5074070093438323 \n",
      "Power : 3.00790875139024 W\n",
      "Power-Stack : 69.18190128197551 W\n",
      "VStack : 18.205763495256704 V\n",
      "Vcell : 0.7915549345763785 V\n",
      "###########\n",
      "I : 3.900000000000002\n",
      "PEM Efficiency : 0.5063347679284521 \n",
      "Power : 3.0805407280767048 W\n",
      "Power-Stack : 70.85243674576421 W\n",
      "VStack : 18.167291473272865 V\n",
      "Vcell : 0.7898822379683854 V\n",
      "###########\n",
      "Done!\n"
     ]
    }
   ],
   "source": [
    "Test_Vector={\"A\":0.0587,\"E0\":1.178,\"B\":0.0517,\"RM\":0.0018,\"i_0\":0.00654,\"i_L\":100.0,\"i_n\":0.23,\"N\":23,\"i-start\":0.1,\"i-stop\":4,\"i-step\":0.1}\n",
    "Static_Analysis(InputMethod=Test_Vector,TestMode=True)"
   ]
  },
  {
   "cell_type": "markdown",
   "metadata": {},
   "source": [
    "## Parameters"
   ]
  },
  {
   "cell_type": "markdown",
   "metadata": {},
   "source": [
    "Inputs, Constants & Middle Values\n",
    "1. User : User Input\n",
    "2. System : Simulator Calculation (Middle Value)"
   ]
  },
  {
   "cell_type": "markdown",
   "metadata": {},
   "source": [
    "<table style=\"text-align:center;\">\n",
    "    <tr>\n",
    "        <td>$$Parameter$$</td>\n",
    "        <td>$$Description$$</td>\n",
    "        <td>$$Unit$$</td>\n",
    "        <td>$$Value$$</td>\n",
    "    </tr> \n",
    "    <tr>\n",
    "        <td>$$E_0$$</td>\n",
    "        <td style=\"text-align:center;\">Fuel Cell reversible no loss voltage</td>\n",
    "        <td>$$V$$</td>\n",
    "        <td>$$User$$</td>\n",
    "    </tr>\n",
    "    <tr>\n",
    "        <td>$$A$$</td>\n",
    "        <td style=\"text-align:center;\">The slope of the Tafel line</td>\n",
    "        <td>$$V$$</td>\n",
    "        <td>$$User$$</td>\n",
    "    </tr>\n",
    "    <tr>\n",
    "        <td>$$i_n$$</td>\n",
    "        <td style=\"text-align:center;\">Internal current</td>\n",
    "        <td>$$A$$</td>\n",
    "        <td>$$User$$</td>\n",
    "    </tr>\n",
    "    <tr>\n",
    "        <td>$$i_0$$</td>\n",
    "        <td style=\"text-align:center;\">Exchange current at which the overvoltage begins to move\n",
    "from zero</td>\n",
    "        <td>$$A$$</td>\n",
    "        <td>$$User$$</td>\n",
    "    </tr>\n",
    "    <tr>\n",
    "        <td>$$i_L$$</td>\n",
    "        <td style=\"text-align:center;\">Limiting current</td>\n",
    "        <td>$$A$$</td>\n",
    "        <td>$$User$$</td>\n",
    "    </tr>\n",
    "    <tr>\n",
    "        <td>$$B$$</td>\n",
    "        <td style=\"text-align:center;\">Constant in the mass transfer term </td>\n",
    "        <td>$$V$$</td>\n",
    "        <td>$$User$$</td>\n",
    "    </tr>\n",
    "    <tr>\n",
    "        <td>$$R_m$$</td>\n",
    "        <td style=\"text-align:center;\">The membrane and contact resistances</td>\n",
    "        <td>$$\\Omega$$</td>\n",
    "        <td>$$User$$</td>\n",
    "    </tr>\n",
    "    \n",
    "    \n",
    "    \n",
    "    <tr>\n",
    "        <td>$$N$$</td>\n",
    "        <td style=\"text-align:center;\">Number of single cells</td>\n",
    "        <td>$$--$$</td>\n",
    "        <td>$$User$$</td>\n",
    "    </tr>\n",
    "         <tr>\n",
    "        <td>$$i_{start}$$</td>\n",
    "        <td style=\"text-align:center;\">Cell operating current start point</td>\n",
    "        <td>$$A$$</td>\n",
    "        <td>$$User$$</td>\n",
    "    </tr>\n",
    "    \n",
    "    <tr>\n",
    "        <td>$$i_{step}$$</td>\n",
    "        <td style=\"text-align:center;\">Cell operating current step</td>\n",
    "        <td>$$A$$</td>\n",
    "        <td>$$User$$</td>\n",
    "    </tr>\n",
    "    \n",
    "    <tr>\n",
    "        <td>$$i_{stop}$$</td>\n",
    "        <td style=\"text-align:center;\">Cell operating current end point</td>\n",
    "        <td>$$A$$</td>\n",
    "        <td>$$User$$</td>\n",
    "    </tr>\n",
    "    \n",
    "               <tr>\n",
    "        <td>$$\\mu_F$$</td>\n",
    "        <td style=\"text-align:center;\">The fuel utilization</td>\n",
    "        <td>$$--$$</td>\n",
    "        <td>$$0.95$$</td>\n",
    "    </tr>\n",
    "          <tr>\n",
    "    <td>$$HHV$$</td>\n",
    "        <td style=\"text-align:center;\">Higher Heating Value Potential</td>\n",
    "        <td>$$V$$</td>\n",
    "        <td>$$1.482$$</td>\n",
    "    </tr>\n",
    "    \n",
    "    \n",
    "    \n",
    "</table>"
   ]
  },
  {
   "cell_type": "markdown",
   "metadata": {},
   "source": [
    "## Reference\n",
    "<blockquote>\n",
    "I. Sadli, P. Thounthong, J.-P. Martin, S. Rael, B. Davat. 2006.\n",
    "\"Behaviour of a PEMFC supplying a low voltage static converter.\"\n",
    "Journal of Power Sources (Elsevier) 156: 119–125.\n",
    "doi:10.1016/j.jpowsour.2005.08.021.\n",
    "</blockquote>"
   ]
  }
 ],
 "metadata": {
  "kernelspec": {
   "display_name": "Python 3",
   "language": "python",
   "name": "python3"
  },
  "language_info": {
   "codemirror_mode": {
    "name": "ipython",
    "version": 3
   },
   "file_extension": ".py",
   "mimetype": "text/x-python",
   "name": "python",
   "nbconvert_exporter": "python",
   "pygments_lexer": "ipython3",
   "version": "3.5.2"
  }
 },
 "nbformat": 4,
 "nbformat_minor": 2
}
