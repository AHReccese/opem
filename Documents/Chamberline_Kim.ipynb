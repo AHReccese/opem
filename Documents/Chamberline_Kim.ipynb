{
 "cells": [
  {
   "cell_type": "markdown",
   "metadata": {},
   "source": [
    "#  Chamberline-KimStatic Model"
   ]
  },
  {
   "cell_type": "markdown",
   "metadata": {},
   "source": [
    "In Chamberline Kim’s model, the values of the constants(five parameters: E0, b, R, m, n) vary depending on many variables, including the composition of the Membrane Electrode Assemblies (MEA), the fuel and oxidant used, besides the local temperature, pressure, and humidity of the MEA. They also depend on the stack itself, so that it cannot be transposed to another FC without new parameter identification.\n",
    "\n",
    "To obtain Chamberline Kim’s parameters, a secondary output program is used in Matlab that relies on curve fitting. It uses the method of least square error when fitting data. Fitting requires a parametric model that relates the response data to the predictor data with one or more coefficients. The result of the fitting process is an estimation of the model coefficients. To obtain the estimated coefficient, the least-square method minimizes the summed square of residuals."
   ]
  },
  {
   "cell_type": "markdown",
   "metadata": {},
   "source": [
    "## Vcell\n",
    "\n",
    "$$V_{cell}=E_0-b\\times ln(J)-(R\\times J)-m\\times exp(nJ)$$\n"
   ]
  },
  {
   "cell_type": "markdown",
   "metadata": {},
   "source": [
    "$$J=\\frac{i}{A}$$"
   ]
  },
  {
   "cell_type": "code",
   "execution_count": 1,
   "metadata": {},
   "outputs": [
    {
     "data": {
      "text/plain": [
       "1.244827379954939"
      ]
     },
     "execution_count": 1,
     "metadata": {},
     "output_type": "execute_result"
    }
   ],
   "source": [
    "from opem.Chamberline_Kim import *\n",
    "Vcell=Vcell_Calc(E0=0.982,b=0.0689,R=0.328,m=0.000125,n=9.45,i=1,A=50.0)\n",
    "Vcell"
   ]
  },
  {
   "cell_type": "markdown",
   "metadata": {},
   "source": [
    "### VStack"
   ]
  },
  {
   "cell_type": "markdown",
   "metadata": {},
   "source": [
    "$$V_{Stack}=N\\times V_{cell}$$"
   ]
  },
  {
   "cell_type": "code",
   "execution_count": 2,
   "metadata": {},
   "outputs": [
    {
     "data": {
      "text/plain": [
       "1.244827379954939"
      ]
     },
     "execution_count": 2,
     "metadata": {},
     "output_type": "execute_result"
    }
   ],
   "source": [
    "VStack=VStack_Calc(Vcell=Vcell,N=1)\n",
    "VStack"
   ]
  },
  {
   "cell_type": "markdown",
   "metadata": {},
   "source": [
    "## Power Of PEMFC"
   ]
  },
  {
   "cell_type": "markdown",
   "metadata": {},
   "source": [
    "$$P=V_{cell}\\times i$$"
   ]
  },
  {
   "cell_type": "markdown",
   "metadata": {},
   "source": [
    "$$P_{Stack}=N\\times P$$"
   ]
  },
  {
   "cell_type": "code",
   "execution_count": 3,
   "metadata": {},
   "outputs": [
    {
     "data": {
      "text/plain": [
       "2.489654759909878"
      ]
     },
     "execution_count": 3,
     "metadata": {},
     "output_type": "execute_result"
    }
   ],
   "source": [
    "Power=Power_Calc(Vcell=Vcell,i=2)\n",
    "Power"
   ]
  },
  {
   "cell_type": "code",
   "execution_count": 4,
   "metadata": {},
   "outputs": [
    {
     "data": {
      "text/plain": [
       "4.979309519819756"
      ]
     },
     "execution_count": 4,
     "metadata": {},
     "output_type": "execute_result"
    }
   ],
   "source": [
    "PowerStack_Calc(Power=Power,N=2)"
   ]
  },
  {
   "cell_type": "markdown",
   "metadata": {},
   "source": [
    "## Efficiency of PEMFC"
   ]
  },
  {
   "cell_type": "markdown",
   "metadata": {},
   "source": [
    "$$\\eta=\\frac{\\mu_F\\times V_{cell}}{HHV}$$"
   ]
  },
  {
   "cell_type": "code",
   "execution_count": 5,
   "metadata": {},
   "outputs": [
    {
     "data": {
      "text/plain": [
       "0.797966269201884"
      ]
     },
     "execution_count": 5,
     "metadata": {},
     "output_type": "execute_result"
    }
   ],
   "source": [
    "Efficiency_Calc(Vcell=Vcell)"
   ]
  },
  {
   "cell_type": "markdown",
   "metadata": {},
   "source": [
    "## Full Run"
   ]
  },
  {
   "cell_type": "markdown",
   "metadata": {},
   "source": [
    "* Run from `i`=0 to `i`=4 with `step`=0.1"
   ]
  },
  {
   "cell_type": "code",
   "execution_count": 6,
   "metadata": {
    "scrolled": true
   },
   "outputs": [
    {
     "name": "stdout",
     "output_type": "stream",
     "text": [
      "###########\n",
      "Chamberline-Kim-Model Simulation\n",
      "###########\n",
      "Analyzing . . .\n",
      "I : 1\n",
      "PEM Efficiency : 0.797966269201884 \n",
      "Power : 1.244827379954939 W\n",
      "Power-Stack : 1.244827379954939 W\n",
      "VStack : 1.244827379954939 V\n",
      "Vcell : 1.244827379954939 V\n",
      "###########\n",
      "I : 1.1\n",
      "PEM Efficiency : 0.7933343765568479 \n",
      "Power : 1.3613617901715511 W\n",
      "Power-Stack : 1.3613617901715511 W\n",
      "VStack : 1.2376016274286827 V\n",
      "Vcell : 1.2376016274286827 V\n",
      "###########\n",
      "I : 1.2000000000000002\n",
      "PEM Efficiency : 0.7890689791314186 \n",
      "Power : 1.4771371289340158 W\n",
      "Power-Stack : 1.4771371289340158 W\n",
      "VStack : 1.230947607445013 V\n",
      "Vcell : 1.230947607445013 V\n",
      "###########\n",
      "I : 1.3000000000000003\n",
      "PEM Efficiency : 0.7851113286904084 \n",
      "Power : 1.592205774584149 W\n",
      "Power-Stack : 1.592205774584149 W\n",
      "VStack : 1.2247736727570373 V\n",
      "Vcell : 1.2247736727570373 V\n",
      "###########\n",
      "I : 1.4000000000000004\n",
      "PEM Efficiency : 0.7814157591393215 \n",
      "Power : 1.7066120179602786 W\n",
      "Power-Stack : 1.7066120179602786 W\n",
      "VStack : 1.2190085842573415 V\n",
      "Vcell : 1.2190085842573415 V\n",
      "###########\n",
      "I : 1.5000000000000004\n",
      "PEM Efficiency : 0.7779460692405816 \n",
      "Power : 1.8203938020229615 W\n",
      "Power-Stack : 1.8203938020229615 W\n",
      "VStack : 1.2135958680153074 V\n",
      "Vcell : 1.2135958680153074 V\n",
      "###########\n",
      "I : 1.6000000000000005\n",
      "PEM Efficiency : 0.7746730751436158 \n",
      "Power : 1.9335839955584657 W\n",
      "Power-Stack : 1.9335839955584657 W\n",
      "VStack : 1.2084899972240406 V\n",
      "Vcell : 1.2084899972240406 V\n",
      "###########\n",
      "I : 1.7000000000000006\n",
      "PEM Efficiency : 0.771572906202878 \n",
      "Power : 2.046211347250033 W\n",
      "Power-Stack : 2.046211347250033 W\n",
      "VStack : 1.2036537336764896 V\n",
      "Vcell : 1.2036537336764896 V\n",
      "###########\n",
      "I : 1.8000000000000007\n",
      "PEM Efficiency : 0.7686257886450131 \n",
      "Power : 2.158301214515198 W\n",
      "Power-Stack : 2.158301214515198 W\n",
      "VStack : 1.1990562302862204 V\n",
      "Vcell : 1.1990562302862204 V\n",
      "###########\n",
      "I : 1.9000000000000008\n",
      "PEM Efficiency : 0.7658151585364871 \n",
      "Power : 2.2698761299021486 W\n",
      "Power-Stack : 2.2698761299021486 W\n",
      "VStack : 1.1946716473169199 V\n",
      "Vcell : 1.1946716473169199 V\n",
      "###########\n",
      "I : 2.000000000000001\n",
      "PEM Efficiency : 0.7631270025420254 \n",
      "Power : 2.38095624793112 W\n",
      "Power-Stack : 2.38095624793112 W\n",
      "VStack : 1.1904781239655595 V\n",
      "Vcell : 1.1904781239655595 V\n",
      "###########\n",
      "I : 2.100000000000001\n",
      "PEM Efficiency : 0.7605493596935309 \n",
      "Power : 2.4915597023560085 W\n",
      "Power-Stack : 2.4915597023560085 W\n",
      "VStack : 1.1864570011219082 V\n",
      "Vcell : 1.1864570011219082 V\n",
      "###########\n",
      "I : 2.200000000000001\n",
      "PEM Efficiency : 0.7580719391696471 \n",
      "Power : 2.60170289523023 W\n",
      "Power-Stack : 2.60170289523023 W\n",
      "VStack : 1.1825922251046495 V\n",
      "Vcell : 1.1825922251046495 V\n",
      "###########\n",
      "I : 2.300000000000001\n",
      "PEM Efficiency : 0.7556858231082223 \n",
      "Power : 2.7114007333123027 W\n",
      "Power-Stack : 2.7114007333123027 W\n",
      "VStack : 1.1788698840488268 V\n",
      "Vcell : 1.1788698840488268 V\n",
      "###########\n",
      "I : 2.4000000000000012\n",
      "PEM Efficiency : 0.753383232714607 \n",
      "Power : 2.820666823283491 W\n",
      "Power-Stack : 2.820666823283491 W\n",
      "VStack : 1.1752778430347872 V\n",
      "Vcell : 1.1752778430347872 V\n",
      "###########\n",
      "I : 2.5000000000000013\n",
      "PEM Efficiency : 0.7511573421474446 \n",
      "Power : 2.9295136343750356 W\n",
      "Power-Stack : 2.9295136343750356 W\n",
      "VStack : 1.1718054537500135 V\n",
      "Vcell : 1.1718054537500135 V\n",
      "###########\n",
      "I : 2.6000000000000014\n",
      "PEM Efficiency : 0.7490021289286691 \n",
      "Power : 3.037952634934684 W\n",
      "Power-Stack : 3.037952634934684 W\n",
      "VStack : 1.168443321128724 V\n",
      "Vcell : 1.168443321128724 V\n",
      "###########\n",
      "I : 2.7000000000000015\n",
      "PEM Efficiency : 0.7469122526002784 \n",
      "Power : 3.1459944079523745 W\n",
      "Power-Stack : 3.1459944079523745 W\n",
      "VStack : 1.1651831140564344 V\n",
      "Vcell : 1.1651831140564344 V\n",
      "###########\n",
      "I : 2.8000000000000016\n",
      "PEM Efficiency : 0.7448829554595717 \n",
      "Power : 3.253648749447411 W\n",
      "Power-Stack : 3.253648749447411 W\n",
      "VStack : 1.1620174105169319 V\n",
      "Vcell : 1.1620174105169319 V\n",
      "###########\n",
      "I : 2.9000000000000017\n",
      "PEM Efficiency : 0.7429099807210011 \n",
      "Power : 3.360924752781811 W\n",
      "Power-Stack : 3.360924752781811 W\n",
      "VStack : 1.1589395699247618 V\n",
      "Vcell : 1.1589395699247618 V\n",
      "###########\n",
      "I : 3.0000000000000018\n",
      "PEM Efficiency : 0.7409895045575802 \n",
      "Power : 3.4678308813294776 W\n",
      "Power-Stack : 3.4678308813294776 W\n",
      "VStack : 1.1559436271098251 V\n",
      "Vcell : 1.1559436271098251 V\n",
      "###########\n",
      "I : 3.100000000000002\n",
      "PEM Efficiency : 0.7391180792895339 \n",
      "Power : 3.574375031444188 W\n",
      "Power-Stack : 3.574375031444188 W\n",
      "VStack : 1.153024203691673 V\n",
      "Vcell : 1.153024203691673 V\n",
      "###########\n",
      "I : 3.200000000000002\n",
      "PEM Efficiency : 0.7372925855955156 \n",
      "Power : 3.680564587292816 W\n",
      "Power-Stack : 3.680564587292816 W\n",
      "VStack : 1.1501764335290043 V\n",
      "Vcell : 1.1501764335290043 V\n",
      "###########\n",
      "I : 3.300000000000002\n",
      "PEM Efficiency : 0.7355101920796727 \n",
      "Power : 3.7864064688261574 W\n",
      "Power-Stack : 3.7864064688261574 W\n",
      "VStack : 1.1473958996442895 V\n",
      "Vcell : 1.1473958996442895 V\n",
      "###########\n",
      "I : 3.400000000000002\n",
      "PEM Efficiency : 0.7337683208763324 \n",
      "Power : 3.8919071739280695 W\n",
      "Power-Stack : 3.8919071739280695 W\n",
      "VStack : 1.1446785805670785 V\n",
      "Vcell : 1.1446785805670785 V\n",
      "###########\n",
      "I : 3.500000000000002\n",
      "PEM Efficiency : 0.7320646182417239 \n",
      "Power : 3.9970728155998145 W\n",
      "Power-Stack : 3.9970728155998145 W\n",
      "VStack : 1.1420208044570892 V\n",
      "Vcell : 1.1420208044570892 V\n",
      "###########\n",
      "I : 3.6000000000000023\n",
      "PEM Efficiency : 0.7303969292894269 \n",
      "Power : 4.101909154889425 W\n",
      "Power-Stack : 4.101909154889425 W\n",
      "VStack : 1.1394192096915061 V\n",
      "Vcell : 1.1394192096915061 V\n",
      "###########\n",
      "I : 3.7000000000000024\n",
      "PEM Efficiency : 0.7287632761880597 \n",
      "Power : 4.206421630157483 W\n",
      "Power-Stack : 4.206421630157483 W\n",
      "VStack : 1.136870710853373 V\n",
      "Vcell : 1.136870710853373 V\n",
      "###########\n",
      "I : 3.8000000000000025\n",
      "PEM Efficiency : 0.7271618392669932 \n",
      "Power : 4.310615383174739 W\n",
      "Power-Stack : 4.310615383174739 W\n",
      "VStack : 1.1343724692565096 V\n",
      "Vcell : 1.1343724692565096 V\n",
      "###########\n",
      "I : 3.9000000000000026\n",
      "PEM Efficiency : 0.7255909405767029 \n",
      "Power : 4.414495282468664 W\n",
      "Power-Stack : 4.414495282468664 W\n",
      "VStack : 1.1319218672996567 V\n",
      "Vcell : 1.1319218672996567 V\n",
      "###########\n",
      "Done!\n"
     ]
    }
   ],
   "source": [
    "Test_Vector={\"A\":50.0,\"E0\":0.982,\"b\":0.0689,\"R\":0.328,\"m\":0.000125,\"n\":9.45,\"N\":1,\"i-start\":1,\"i-stop\":4,\"i-step\":0.1}\n",
    "Static_Analysis(InputMethod=Test_Vector,TestMode=True)"
   ]
  },
  {
   "cell_type": "markdown",
   "metadata": {},
   "source": [
    "## Parameters"
   ]
  },
  {
   "cell_type": "markdown",
   "metadata": {},
   "source": [
    "<table style=\"text-align:center;\">\n",
    "    <tr>\n",
    "        <td>$$Parameter$$</td>\n",
    "        <td>$$Description$$</td>\n",
    "        <td>$$Unit$$</td>\n",
    "    </tr> \n",
    "    <tr>\n",
    "        <td>$$E_0$$</td>\n",
    "        <td style=\"text-align:center;\">Open circuit voltage</td>\n",
    "        <td>$$V$$</td>\n",
    "    </tr>\n",
    "    <tr>\n",
    "        <td>$$b$$</td>\n",
    "        <td style=\"text-align:center;\">Tafel’s parameter for the oxygen reduction</td>\n",
    "        <td>$$V$$</td>\n",
    "    </tr>\n",
    "    <tr>\n",
    "        <td>$$R$$</td>\n",
    "        <td style=\"text-align:center;\">Resistance</td>\n",
    "        <td>$$\\Omega cm^2$$</td>\n",
    "    </tr>\n",
    "    <tr>\n",
    "        <td>$$m$$</td>\n",
    "        <td style=\"text-align:center;\">Diffusion’s parameters </td>\n",
    "        <td>$$V$$</td>\n",
    "    </tr>\n",
    "    <tr>\n",
    "        <td>$$n$$</td>\n",
    "        <td style=\"text-align:center;\">Diffusion’s parameters </td>\n",
    "        <td>$$A^{-1}cm^2$$</td>\n",
    "    </tr>\n",
    "    <tr>\n",
    "        <td>$$A$$</td>\n",
    "        <td style=\"text-align:center;\">Active area</td>\n",
    "        <td>$$cm^2$$</td>\n",
    "    </tr>\n",
    "     <tr>\n",
    "        <td>$$J$$</td>\n",
    "        <td style=\"text-align:center;\">Actual current density of the cell </td>\n",
    "        <td>$$Acm^{-2}$$</td>\n",
    "    </tr>\n",
    "    \n",
    "    \n",
    "    \n",
    "          <tr>\n",
    "        <td>$$N$$</td>\n",
    "        <td style=\"text-align:center;\">Number of single cells</td>\n",
    "        <td>$$--$$</td>\n",
    "    </tr>\n",
    "    \n",
    "          <tr>\n",
    "        <td>$$\\mu_F$$</td>\n",
    "        <td style=\"text-align:center;\">The fuel utilization (typically about 0.95)</td>\n",
    "        <td>$$--$$</td>\n",
    "    </tr>\n",
    "    \n",
    "        <td>$$HHV$$</td>\n",
    "        <td style=\"text-align:center;\">Higher Heating Value Potential</td>\n",
    "        <td>$$V$$</td>\n",
    "    </tr>\n",
    "    \n",
    "    \n",
    "    \n",
    "</table>"
   ]
  },
  {
   "cell_type": "markdown",
   "metadata": {},
   "source": [
    "## Reference\n",
    "<blockquote>\n",
    "Junbom Kim, Seong-Min Lee, Supramaniam Srinivasan, Charles E. Chamberlin. 1995. \"Modeling of Proton Exchange Membrane Fuel Cell Performance with an Empirical Equation.\" Journal of The Electrochemical Society (The Electrochemical Society) 142 (8): 2670-2674. doi:10.1149/1.2050072.\n",
    "</blockquote>"
   ]
  }
 ],
 "metadata": {
  "kernelspec": {
   "display_name": "Python 3",
   "language": "python",
   "name": "python3"
  },
  "language_info": {
   "codemirror_mode": {
    "name": "ipython",
    "version": 3
   },
   "file_extension": ".py",
   "mimetype": "text/x-python",
   "name": "python",
   "nbconvert_exporter": "python",
   "pygments_lexer": "ipython3",
   "version": "3.5.2"
  }
 },
 "nbformat": 4,
 "nbformat_minor": 2
}
